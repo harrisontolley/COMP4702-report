{
 "cells": [
  {
   "cell_type": "code",
   "execution_count": 225,
   "metadata": {},
   "outputs": [],
   "source": [
    "import pandas as pd\n",
    "import numpy as np\n",
    "from sklearn.model_selection import train_test_split\n",
    "from sklearn.preprocessing import StandardScaler\n",
    "from sklearn.svm import SVC\n",
    "from sklearn.metrics import accuracy_score, classification_report\n",
    "import matplotlib.pyplot as plt"
   ]
  },
  {
   "cell_type": "code",
   "execution_count": 226,
   "metadata": {},
   "outputs": [],
   "source": [
    "cleaned_data_path = (\n",
    "    \"C:\\\\Users\\\\htoll\\\\Desktop\\\\Uni\\\\Y3S1\\\\COMP4702\\\\report\\\\Cleaned_data.csv\"\n",
    ")\n",
    "data = pd.read_csv(cleaned_data_path)\n",
    "\n",
    "# Separate features and target\n",
    "X = data.drop(columns=[\"Species_Population\"])\n",
    "y = data[\"Species_Population\"]\n",
    "\n",
    "\n",
    "X_train, X_test, y_train, y_test = train_test_split(\n",
    "    X, y, test_size=0.20, random_state=42\n",
    ")"
   ]
  },
  {
   "cell_type": "code",
   "execution_count": 227,
   "metadata": {},
   "outputs": [],
   "source": [
    "# Function to add noise to data\n",
    "def add_noise(X, noise_percent):\n",
    "    std_devs = X.std(axis=0)\n",
    "    noise = np.random.normal(0, std_devs, X.shape) * noise_percent\n",
    "    X_noisy = X + noise\n",
    "    return X_noisy\n",
    "\n",
    "\n",
    "# Function to add noise to data\n",
    "noise_levels = [0, 0.01, 0.025, 0.05, 0.1, 0.2]"
   ]
  },
  {
   "cell_type": "code",
   "execution_count": null,
   "metadata": {},
   "outputs": [],
   "source": [
    "# Adding noise to the training data\n",
    "X_train_noisy_list = [add_noise(X_train, noise) for noise in noise_levels]\n",
    "\n",
    "# Standardize the data (including noisy versions)\n",
    "scaler = StandardScaler()\n",
    "X_train_scaled_list = [scaler.fit_transform(X_noisy) for X_noisy in X_train_noisy_list]\n",
    "X_test_scaled = scaler.transform(X_test)"
   ]
  },
  {
   "cell_type": "code",
   "execution_count": 228,
   "metadata": {},
   "outputs": [],
   "source": [
    "# Adding noise to the training data before scaling\n",
    "X_train_noisy_list = [add_noise(X_train, noise) for noise in noise_levels]\n"
   ]
  },
  {
   "cell_type": "code",
   "execution_count": 229,
   "metadata": {},
   "outputs": [],
   "source": [
    "# param_grid = {\n",
    "#     \"criterion\": [\"gini\", \"entropy\"],\n",
    "#     \"max_depth\": [i for i in range(20,40)],\n",
    "#     \"min_samples_split\": [i for i in range(2,11)],\n",
    "#     \"min_samples_leaf\": [i for i in range(1,5)],\n",
    "#     \"max_features\": [None, \"sqrt\", \"log2\"],\n",
    "# }\n",
    "\n",
    "# # Initialize the decision tree classifier\n",
    "# clf = DecisionTreeClassifier(random_state=42)\n",
    "\n",
    "# # Initialize GridSearchCV\n",
    "# grid_search = GridSearchCV(\n",
    "#     estimator=clf, param_grid=param_grid, cv=5, n_jobs=-1, scoring=\"accuracy\", verbose=2\n",
    "# )\n",
    "\n",
    "# # Perform grid search on the original (0% noise) data\n",
    "# grid_search.fit(X_train, y_train)\n",
    "\n",
    "# # Print the best parameters and best score from grid search\n",
    "# print(\"Best Parameters:\", grid_search.best_params_)\n",
    "# print(\"Best Cross-Validation Score:\", grid_search.best_score_)"
   ]
  },
  {
   "cell_type": "code",
   "execution_count": 230,
   "metadata": {},
   "outputs": [],
   "source": [
    "# best_clf = grid_search.best_estimator_"
   ]
  },
  {
   "cell_type": "code",
   "execution_count": 231,
   "metadata": {},
   "outputs": [],
   "source": [
    "# Initialize and train the decision tree classifier\n",
    "clf = DecisionTreeClassifier(random_state=42, max_depth=20, min_samples_split=6, min_samples_leaf=2, max_features=None)\n",
    "# clf.fit(X_train, y_train)\n",
    "\n",
    "# Make predictions\n",
    "# y_pred = clf.predict(X_test)\n",
    "\n",
    "# Evaluate the model\n",
    "# print(\"Accuracy:\", accuracy_score(y_test, y_pred))\n",
    "# print(\"Classification Report:\\n\", classification_report(y_test, y_pred))"
   ]
  },
  {
   "cell_type": "code",
   "execution_count": 232,
   "metadata": {},
   "outputs": [
    {
     "name": "stdout",
     "output_type": "stream",
     "text": [
      "Accuracy with 0% noise: 0.7543352601156069\n",
      "Accuracy with 1.0% noise: 0.7109826589595376\n",
      "Accuracy with 2.5% noise: 0.7023121387283237\n",
      "Accuracy with 5.0% noise: 0.7312138728323699\n",
      "Accuracy with 10.0% noise: 0.6589595375722543\n",
      "Accuracy with 20.0% noise: 0.6445086705202312\n"
     ]
    }
   ],
   "source": [
    "for noise_level, X_train_noisy in zip(noise_levels, X_train_noisy_list):\n",
    "    clf.fit(X_train_noisy, y_train)\n",
    "    y_pred = clf.predict(X_test)\n",
    "    accuracy = accuracy_score(y_test, y_pred)\n",
    "    print(f\"Accuracy with {noise_level * 100}% noise:\", accuracy)"
   ]
  }
 ],
 "metadata": {
  "kernelspec": {
   "display_name": "conda-torch",
   "language": "python",
   "name": "python3"
  },
  "language_info": {
   "codemirror_mode": {
    "name": "ipython",
    "version": 3
   },
   "file_extension": ".py",
   "mimetype": "text/x-python",
   "name": "python",
   "nbconvert_exporter": "python",
   "pygments_lexer": "ipython3",
   "version": "3.10.12"
  }
 },
 "nbformat": 4,
 "nbformat_minor": 2
}
