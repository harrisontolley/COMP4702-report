{
 "cells": [
  {
   "cell_type": "code",
   "execution_count": 44,
   "metadata": {},
   "outputs": [],
   "source": [
    "import numpy as np\n",
    "import pandas as pd\n",
    "from sklearn.model_selection import train_test_split, GridSearchCV\n",
    "from sklearn.ensemble import RandomForestClassifier\n",
    "from sklearn.metrics import accuracy_score, classification_report"
   ]
  },
  {
   "cell_type": "code",
   "execution_count": 45,
   "metadata": {},
   "outputs": [],
   "source": [
    "# Load the dataset\n",
    "cleaned_data_path = (\n",
    "    \"C:\\\\Users\\\\htoll\\\\Desktop\\\\Uni\\\\Y3S1\\\\COMP4702\\\\report\\\\Cleaned_data.csv\"\n",
    ")\n",
    "data = pd.read_csv(cleaned_data_path)\n",
    "\n",
    "# Separate features and target\n",
    "X = data.drop(columns=[\"Species_Population\"])\n",
    "y = data[\"Species_Population\"]\n",
    "\n",
    "# Split the dataset into training and testing sets\n",
    "X_train, X_test, y_train, y_test = train_test_split(\n",
    "    X, y, test_size=0.20, random_state=42\n",
    ")"
   ]
  },
  {
   "cell_type": "code",
   "execution_count": 46,
   "metadata": {},
   "outputs": [],
   "source": [
    "# Function to add noise to data\n",
    "def add_noise(X, noise_percent):\n",
    "    std_devs = X.std(axis=0)\n",
    "    noise = np.random.normal(0, std_devs, X.shape) * noise_percent\n",
    "    X_noisy = X + noise\n",
    "    return X_noisy\n",
    "\n",
    "\n",
    "# Function to add noise to data\n",
    "noise_levels = [0, 0.01, 0.025, 0.05, 0.1, 0.2]\n",
    "# Adding noise to the training data before scaling\n",
    "X_train_noisy_list = [add_noise(X_train, noise) for noise in noise_levels]"
   ]
  },
  {
   "cell_type": "code",
   "execution_count": 47,
   "metadata": {},
   "outputs": [],
   "source": [
    "# # Define the parameter grid for GridSearchCV\n",
    "# param_grid = {\n",
    "#     \"n_estimators\": [50, 100, 150, 200],\n",
    "#     \"max_depth\": [None, 10, 20, 30],\n",
    "#     \"min_samples_split\": [2, 5, 10],\n",
    "#     \"min_samples_leaf\": [1, 2, 4],\n",
    "#     \"max_features\": [None, \"sqrt\", \"log2\"],\n",
    "# }\n",
    "\n",
    "# # Initialize the random forest classifier\n",
    "# rf_clf = RandomForestClassifier(random_state=42)\n",
    "\n",
    "# # Initialize GridSearchCV\n",
    "# grid_search = GridSearchCV(\n",
    "#     estimator=rf_clf,\n",
    "#     param_grid=param_grid,\n",
    "#     cv=5,\n",
    "#     n_jobs=-1,\n",
    "#     scoring=\"accuracy\",\n",
    "#     verbose=2,\n",
    "# )\n",
    "\n",
    "# # Perform grid search on the original (0% noise) data\n",
    "# grid_search.fit(X_train, y_train)\n",
    "\n",
    "# # Print the best parameters and best score from grid search\n",
    "# print(\"Best Parameters:\", grid_search.best_params_)\n",
    "# print(\"Best Cross-Validation Score:\", grid_search.best_score_)\n",
    "\n",
    "# # Train the best estimator on the noisy data and evaluate\n",
    "# best_rf_clf = grid_search.best_estimator_\n",
    "\n",
    "best_rf_clf = RandomForestClassifier(max_depth=None, max_features=None,  min_samples_leaf=1, min_samples_split=5, n_estimators=150, random_state=42)"
   ]
  },
  {
   "cell_type": "code",
   "execution_count": 48,
   "metadata": {},
   "outputs": [
    {
     "name": "stdout",
     "output_type": "stream",
     "text": [
      "Accuracy with 0% noise: 0.7832369942196532\n",
      "Accuracy with 1.0% noise: 0.7716763005780347\n",
      "Accuracy with 2.5% noise: 0.7630057803468208\n",
      "Accuracy with 5.0% noise: 0.7658959537572254\n",
      "Accuracy with 10.0% noise: 0.7485549132947977\n",
      "Accuracy with 20.0% noise: 0.7312138728323699\n"
     ]
    }
   ],
   "source": [
    "for noise_level, X_train_noisy in zip(noise_levels, X_train_noisy_list):\n",
    "    best_rf_clf.fit(X_train_noisy, y_train)\n",
    "    y_pred = best_rf_clf.predict(X_test)\n",
    "    accuracy = accuracy_score(y_test, y_pred)\n",
    "    print(f\"Accuracy with {noise_level * 100}% noise:\", accuracy)"
   ]
  }
 ],
 "metadata": {
  "kernelspec": {
   "display_name": "conda-torch",
   "language": "python",
   "name": "python3"
  },
  "language_info": {
   "codemirror_mode": {
    "name": "ipython",
    "version": 3
   },
   "file_extension": ".py",
   "mimetype": "text/x-python",
   "name": "python",
   "nbconvert_exporter": "python",
   "pygments_lexer": "ipython3",
   "version": "3.10.12"
  }
 },
 "nbformat": 4,
 "nbformat_minor": 2
}
