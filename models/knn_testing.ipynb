{
 "cells": [
  {
   "cell_type": "code",
   "execution_count": 902,
   "metadata": {},
   "outputs": [],
   "source": [
    "import pandas as pd\n",
    "import numpy as np\n",
    "import os\n",
    "from sklearn.preprocessing import StandardScaler\n",
    "from sklearn.model_selection import train_test_split\n",
    "from sklearn.neighbors import KNeighborsClassifier\n",
    "from sklearn.metrics import accuracy_score"
   ]
  },
  {
   "cell_type": "code",
   "execution_count": 903,
   "metadata": {},
   "outputs": [],
   "source": [
    "cleaned_data_path = (\n",
    "    \"C:\\\\Users\\\\htoll\\\\Desktop\\\\Uni\\\\Y3S1\\\\COMP4702\\\\report\\\\Cleaned_data.csv\"\n",
    ")\n",
    "data = pd.read_csv(cleaned_data_path)"
   ]
  },
  {
   "cell_type": "code",
   "execution_count": 904,
   "metadata": {},
   "outputs": [],
   "source": [
    "# Separate features and target\n",
    "X = data.drop(columns=[\"Species_Population\"])\n",
    "y = data[\"Species_Population\"]\n",
    "\n",
    "X_train, X_test, y_train, y_test = train_test_split(\n",
    "    X, y, test_size=0.20, random_state=42\n",
    ")\n",
    "\n"
   ]
  },
  {
   "cell_type": "code",
   "execution_count": 905,
   "metadata": {},
   "outputs": [],
   "source": [
    "# Function to add noise to data\n",
    "def add_noise(X, noise_percent):\n",
    "    std_devs = X.std(axis=0)\n",
    "    noise = np.random.normal(0, std_devs, X.shape) * (noise_percent / 100)\n",
    "    X_noisy = X + noise\n",
    "    return X_noisy\n",
    "\n",
    "# Function to add noise to data\n",
    "noise_levels = [0.01, 0.025, 0.05, 0.1, 0.2]"
   ]
  },
  {
   "cell_type": "code",
   "execution_count": 906,
   "metadata": {},
   "outputs": [],
   "source": [
    "# Adding noise to the training data before scaling\n",
    "X_train_noisy_list = [add_noise(X_train, noise) for noise in noise_levels]\n",
    "\n",
    "# Standardize the data (including noisy versions)\n",
    "scaler = StandardScaler()\n",
    "X_train_scaled_list = [scaler.fit_transform(X_noisy) for X_noisy in X_train_noisy_list]\n",
    "X_test_scaled = scaler.transform(X_test)"
   ]
  },
  {
   "cell_type": "code",
   "execution_count": 907,
   "metadata": {},
   "outputs": [],
   "source": [
    "# Define the best KNN model parameters\n",
    "best_knn = KNeighborsClassifier(n_neighbors=9, weights=\"distance\", metric=\"manhattan\")"
   ]
  },
  {
   "cell_type": "code",
   "execution_count": 908,
   "metadata": {},
   "outputs": [
    {
     "name": "stdout",
     "output_type": "stream",
     "text": [
      "Trained on 1.0% noise, Accuracy: 0.7139\n",
      "Trained on 2.5% noise, Accuracy: 0.7139\n",
      "Trained on 5.0% noise, Accuracy: 0.7139\n",
      "Trained on 10.0% noise, Accuracy: 0.7110\n",
      "Trained on 20.0% noise, Accuracy: 0.7225\n",
      "  Noise_Level  Accuracy\n",
      "0        1.0%  0.713873\n",
      "1        2.5%  0.713873\n",
      "2        5.0%  0.713873\n",
      "3       10.0%  0.710983\n",
      "4       20.0%  0.722543\n"
     ]
    }
   ],
   "source": [
    "# Train and evaluate the model on each noisy dataset\n",
    "results = []\n",
    "for i, X_train_scaled in enumerate(X_train_scaled_list):\n",
    "    # Train the model\n",
    "    best_knn.fit(X_train_scaled, y_train)\n",
    "    # Predict the labels for the test data\n",
    "    y_pred = best_knn.predict(X_test_scaled)\n",
    "    # Calculate accuracy\n",
    "    accuracy = accuracy_score(y_test, y_pred)\n",
    "    noise_level = noise_levels[i] * 100\n",
    "    results.append((f\"{noise_level}%\", accuracy))\n",
    "    print(f\"Trained on {noise_level}% noise, Accuracy: {accuracy:.4f}\")\n",
    "\n",
    "# Convert results to a DataFrame for better visualization\n",
    "results_df = pd.DataFrame(results, columns=[\"Noise_Level\", \"Accuracy\"])\n",
    "print(results_df)"
   ]
  },
  {
   "cell_type": "code",
   "execution_count": null,
   "metadata": {},
   "outputs": [],
   "source": []
  }
 ],
 "metadata": {
  "kernelspec": {
   "display_name": "conda-torch",
   "language": "python",
   "name": "python3"
  },
  "language_info": {
   "codemirror_mode": {
    "name": "ipython",
    "version": 3
   },
   "file_extension": ".py",
   "mimetype": "text/x-python",
   "name": "python",
   "nbconvert_exporter": "python",
   "pygments_lexer": "ipython3",
   "version": "3.10.12"
  }
 },
 "nbformat": 4,
 "nbformat_minor": 2
}
