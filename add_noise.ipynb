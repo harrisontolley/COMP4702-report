{
 "cells": [
  {
   "cell_type": "code",
   "execution_count": 37,
   "metadata": {},
   "outputs": [],
   "source": [
    "# imports necessary\n",
    "import pandas as pd\n",
    "import numpy as np\n",
    "import os\n",
    "from parameters import *\n",
    "import import_ipynb"
   ]
  },
  {
   "cell_type": "code",
   "execution_count": 38,
   "metadata": {},
   "outputs": [],
   "source": [
    "output_dir = 'processed_data'\n",
    "if not os.path.exists(output_dir):\n",
    "    os.makedirs(output_dir)\n",
    "\n",
    "# read data\n",
    "data = pd.read_csv('Cleaned_data.csv')\n",
    "\n",
    "# columns to add noise to\n",
    "numerical_cols = [\n",
    "    \"Thorax_length\",\n",
    "    \"l2\",\n",
    "    \"l3p\",\n",
    "    \"l3d\",\n",
    "    \"lpd\",\n",
    "    \"l3\",\n",
    "    \"w1\",\n",
    "    \"w2\",\n",
    "    \"w3\",\n",
    "    \"wing_loading\",\n",
    "]\n",
    "\n",
    "# define percentages of noise to add\n",
    "noise_levels = [0,1,2.5,5,10]"
   ]
  },
  {
   "cell_type": "code",
   "execution_count": 39,
   "metadata": {},
   "outputs": [],
   "source": [
    "# define function to add noise to data\n",
    "\n",
    "# seed numpy random number generator\n",
    "np.random.seed(RANDOM_SEED)\n",
    "\n",
    "def add_noise(data: pd.DataFrame, noise_percent: float) -> pd.DataFrame:\n",
    "    data_noisy = data.copy()\n",
    "    for column in numerical_cols:\n",
    "\n",
    "        # calculate std deviation of column\n",
    "        std = data[column].std()\n",
    "\n",
    "        # create noise with normal distribution\n",
    "        noise = np.random.normal(0, std * (noise_percent / 100), size=data[column].shape)\n",
    "\n",
    "        data_noisy[column] += noise\n",
    "\n",
    "    return data_noisy"
   ]
  },
  {
   "cell_type": "code",
   "execution_count": 40,
   "metadata": {},
   "outputs": [
    {
     "name": "stdout",
     "output_type": "stream",
     "text": [
      "Data with 0% noise saved to processed_data\\0%_noisy_data.csv\n",
      "Data with 1% noise saved to processed_data\\1%_noisy_data.csv\n",
      "Data with 2.5% noise saved to processed_data\\2.5%_noisy_data.csv\n",
      "Data with 5% noise saved to processed_data\\5%_noisy_data.csv\n",
      "Data with 10% noise saved to processed_data\\10%_noisy_data.csv\n"
     ]
    }
   ],
   "source": [
    "# generate noisy data and save to csv\n",
    "for percent in noise_levels:\n",
    "    noisy_data = add_noise(data, percent)\n",
    "    file_path = os.path.join(\n",
    "        output_dir, f\"{percent}%_noisy_data.csv\"\n",
    "    )  # Define the full path\n",
    "    noisy_data.to_csv(file_path, index=False)\n",
    "    print(f\"Data with {percent}% noise saved to {file_path}\")"
   ]
  }
 ],
 "metadata": {
  "kernelspec": {
   "display_name": "conda-torch",
   "language": "python",
   "name": "python3"
  },
  "language_info": {
   "codemirror_mode": {
    "name": "ipython",
    "version": 3
   },
   "file_extension": ".py",
   "mimetype": "text/x-python",
   "name": "python",
   "nbconvert_exporter": "python",
   "pygments_lexer": "ipython3",
   "version": "3.10.12"
  }
 },
 "nbformat": 4,
 "nbformat_minor": 2
}
