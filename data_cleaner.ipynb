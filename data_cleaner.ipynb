{
 "cells": [
  {
   "cell_type": "code",
   "execution_count": 232,
   "metadata": {},
   "outputs": [],
   "source": [
    "# File responsble for the creation of individual datasets with added noise (for the purpose of testing the robustness of the model)\n"
   ]
  },
  {
   "cell_type": "code",
   "execution_count": 233,
   "metadata": {},
   "outputs": [],
   "source": [
    "# imports required\n",
    "import pandas as pd\n",
    "from sklearn.preprocessing import LabelEncoder"
   ]
  },
  {
   "cell_type": "code",
   "execution_count": 234,
   "metadata": {},
   "outputs": [
    {
     "name": "stdout",
     "output_type": "stream",
     "text": [
      "       Species Population  Latitude  Longitude  Year_start  Year_end  \\\n",
      "0  D._aldrichi    Binjour    -25.52     151.45        1994      1994   \n",
      "1  D._aldrichi    Binjour    -25.52     151.45        1994      1994   \n",
      "2  D._aldrichi    Binjour    -25.52     151.45        1994      1994   \n",
      "3  D._aldrichi    Binjour    -25.52     151.45        1994      1994   \n",
      "4  D._aldrichi    Binjour    -25.52     151.45        1994      1994   \n",
      "\n",
      "   Temperature  Vial  Replicate     Sex Thorax_length     l2    l3p    l3d  \\\n",
      "0           20     1          1  female         1.238  2.017  0.659  1.711   \n",
      "1           20     1          1    male         1.113  1.811  0.609  1.539   \n",
      "2           20     1          2  female         1.215  1.985  0.648  1.671   \n",
      "3           20     1          2    male         1.123  1.713  0.596  1.495   \n",
      "4           20     2          1  female         1.218  1.938  0.641  1.658   \n",
      "\n",
      "     lpd     l3     w1     w2     w3 wing_loading  \n",
      "0  2.370  2.370  1.032  1.441  1.192        1.914  \n",
      "1  2.148  2.146  0.938  1.299  1.066        1.928  \n",
      "2  2.319  2.319  0.991  1.396  1.142        1.908  \n",
      "3  2.091  2.088  0.958  1.286  1.062        1.860  \n",
      "4  2.298  2.298  1.010  1.418  1.148        1.886  \n"
     ]
    }
   ],
   "source": [
    "# read the data, and display head\n",
    "data = pd.read_csv('Thorax_and_Wing_traits.csv')\n",
    "print(data.head())\n",
    "# print(\"Data shape: \", data.shape)\n",
    "# print(\"Column data types: \", data.dtypes)\n",
    "# print(\"Summary: \", data.info())\n",
    "\n"
   ]
  },
  {
   "cell_type": "code",
   "execution_count": 235,
   "metadata": {},
   "outputs": [],
   "source": [
    "# data preprocessing\n",
    "\n",
    "# combine species and population\n",
    "data[\"Species_Population\"] = data[\"Species\"] + \"_\" + data[\"Population\"]\n",
    "\n",
    "# drop columns that are not required\n",
    "columns_to_drop = [\"Year_start\", \"Year_end\", \"Vial\", \"Replicate\", \"Species\", \"Population\", \"Temperature\"]\n",
    "columns_to_drop = [col for col in columns_to_drop if col in data.columns]\n",
    "data = data.drop(columns_to_drop, axis=1)"
   ]
  },
  {
   "cell_type": "code",
   "execution_count": 236,
   "metadata": {},
   "outputs": [
    {
     "name": "stdout",
     "output_type": "stream",
     "text": [
      "Latitude              float64\n",
      "Longitude             float64\n",
      "Sex                     int32\n",
      "Thorax_length          object\n",
      "l2                    float64\n",
      "l3p                   float64\n",
      "l3d                   float64\n",
      "lpd                   float64\n",
      "l3                    float64\n",
      "w1                    float64\n",
      "w2                    float64\n",
      "w3                    float64\n",
      "wing_loading           object\n",
      "Species_Population      int32\n",
      "dtype: object\n"
     ]
    }
   ],
   "source": [
    "# convert categorical columns to numerical\n",
    "le = LabelEncoder()\n",
    "data[\"Species_Population\"] = le.fit_transform(data[\"Species_Population\"])\n",
    "data['Sex'] = le.fit_transform(data['Sex'])\n",
    "\n",
    "print(data.dtypes)"
   ]
  },
  {
   "cell_type": "code",
   "execution_count": 237,
   "metadata": {},
   "outputs": [
    {
     "name": "stdout",
     "output_type": "stream",
     "text": [
      "NaN in Thorax_length: 1\n",
      "NaN in wing_loading: 1\n"
     ]
    }
   ],
   "source": [
    "# Attempt to convert 'Thorax_length' and 'wing_loading' to numeric, coercing errors\n",
    "data[\"Thorax_length\"] = pd.to_numeric(data[\"Thorax_length\"], errors=\"coerce\")\n",
    "data[\"wing_loading\"] = pd.to_numeric(data[\"wing_loading\"], errors=\"coerce\")\n",
    "\n",
    "print(\"NaN in Thorax_length:\", data[\"Thorax_length\"].isna().sum())\n",
    "print(\"NaN in wing_loading:\", data[\"wing_loading\"].isna().sum())\n",
    "\n",
    "data.dropna(subset=[\"Thorax_length\", \"wing_loading\"], inplace=True)"
   ]
  },
  {
   "cell_type": "code",
   "execution_count": 242,
   "metadata": {},
   "outputs": [
    {
     "name": "stdout",
     "output_type": "stream",
     "text": [
      "    Latitude  Longitude  Sex  Thorax_length     l2    l3p    l3d    lpd  \\\n",
      "0     -25.52     151.45    0          1.238  2.017  0.659  1.711  2.370   \n",
      "1     -25.52     151.45    1          1.113  1.811  0.609  1.539  2.148   \n",
      "2     -25.52     151.45    0          1.215  1.985  0.648  1.671  2.319   \n",
      "3     -25.52     151.45    1          1.123  1.713  0.596  1.495  2.091   \n",
      "4     -25.52     151.45    0          1.218  1.938  0.641  1.658  2.298   \n",
      "5     -25.52     151.45    1          1.104  1.794  0.585  1.525  2.110   \n",
      "6     -25.52     151.45    1          1.127  1.833  0.596  1.558  2.154   \n",
      "7     -25.52     151.45    1          1.102  1.774  0.568  1.492  2.059   \n",
      "8     -25.52     151.45    0          1.214  2.002  0.657  1.689  2.346   \n",
      "9     -25.52     151.45    1          1.115  1.773  0.601  1.504  2.105   \n",
      "10    -25.52     151.45    0          1.154  1.857  0.629  1.590  2.218   \n",
      "11    -25.52     151.45    1          1.155  1.751  0.575  1.507  2.083   \n",
      "12    -25.52     151.45    0          1.239  1.974  0.651  1.680  2.330   \n",
      "13    -25.52     151.45    0          1.244  2.005  0.647  1.680  2.327   \n",
      "14    -25.52     151.45    1          1.169  1.845  0.632  1.539  2.170   \n",
      "15    -25.52     151.45    1          1.123  1.726  0.617  1.440  2.059   \n",
      "16    -25.52     151.45    1          1.108  1.799  0.624  1.507  2.131   \n",
      "17    -25.52     151.45    0          1.225  1.932  0.657  1.606  2.262   \n",
      "18    -25.52     151.45    1          1.124  1.720  0.607  1.460  2.067   \n",
      "19    -25.52     151.45    0          1.207  1.979  0.619  1.684  2.302   \n",
      "20    -25.52     151.45    1          1.120  1.835  0.604  1.545  2.149   \n",
      "21    -25.52     151.45    0          1.230  1.969  0.653  1.624  2.277   \n",
      "22    -25.52     151.45    0          1.215  1.959  0.661  1.661  2.322   \n",
      "23    -25.52     151.45    1          1.088  1.766  0.578  1.484  2.061   \n",
      "24    -25.52     151.45    0          1.203  1.893  0.615  1.583  2.198   \n",
      "25    -25.52     151.45    1          1.151  1.862  0.601  1.573  2.173   \n",
      "26    -25.52     151.45    0          1.214  1.923  0.655  1.656  2.296   \n",
      "27    -25.52     151.45    1          1.138  1.729  0.589  1.467  2.056   \n",
      "28    -25.52     151.45    0          1.170  1.814  0.621  1.539  2.160   \n",
      "29    -25.52     151.45    1          1.145  1.828  0.602  1.564  2.166   \n",
      "30    -25.52     151.45    0          1.212  1.975  0.666  1.640  2.306   \n",
      "31    -25.52     151.45    1          1.108  1.861  0.608  1.584  2.191   \n",
      "32    -25.52     151.45    0          1.269  1.980  0.667  1.685  2.353   \n",
      "33    -25.52     151.45    1          1.126  1.829  0.634  1.515  2.149   \n",
      "34    -25.52     151.45    0          1.229  1.951  0.662  1.663  2.325   \n",
      "35    -25.52     151.45    1          1.123  1.836  0.566  1.579  2.145   \n",
      "36    -25.52     151.45    0          1.215  1.946  0.640  1.692  2.332   \n",
      "37    -25.52     151.45    1          1.100  1.834  0.582  1.550  2.132   \n",
      "38    -25.52     151.45    0          1.232  1.991  0.648  1.691  2.339   \n",
      "39    -25.52     151.45    1          1.111  1.712  0.566  1.522  2.087   \n",
      "40    -25.52     151.45    0          1.225  1.987  0.648  1.702  2.350   \n",
      "41    -25.52     151.45    1          1.134  1.797  0.589  1.538  2.128   \n",
      "42    -25.52     151.45    0          1.282  2.031  0.665  1.695  2.359   \n",
      "43    -25.52     151.45    1          1.138  1.755  0.600  1.495  2.095   \n",
      "44    -25.52     151.45    0          1.240  1.972  0.654  1.652  2.306   \n",
      "45    -25.52     151.45    0          1.233  1.935  0.629  1.676  2.306   \n",
      "46    -25.52     151.45    1          1.145  1.782  0.605  1.490  2.096   \n",
      "47    -25.52     151.45    0          1.232  1.986  0.679  1.655  2.333   \n",
      "48    -25.52     151.45    1          1.137  1.868  0.624  1.569  2.193   \n",
      "49    -25.52     151.45    0          1.239  2.012  0.635  1.729  2.364   \n",
      "50    -25.52     151.45    0          1.134  1.732  0.595  1.483  2.078   \n",
      "51    -25.52     151.45    1          1.097  1.636  0.578  1.391  1.969   \n",
      "52    -25.52     151.45    0          1.152  1.849  0.600  1.598  2.197   \n",
      "53    -25.52     151.45    1          1.091  1.716  0.582  1.441  2.023   \n",
      "54    -25.52     151.45    0          1.143  1.664  0.632  1.354  1.986   \n",
      "\n",
      "       l3     w1     w2     w3  wing_loading  Species_Population  \n",
      "0   2.370  1.032  1.441  1.192         1.914                   0  \n",
      "1   2.146  0.938  1.299  1.066         1.928                   0  \n",
      "2   2.319  0.991  1.396  1.142         1.908                   0  \n",
      "3   2.088  0.958  1.286  1.062         1.860                   0  \n",
      "4   2.298  1.010  1.418  1.148         1.886                   0  \n",
      "5   2.107  0.919  1.285  1.046         1.909                   0  \n",
      "6   2.152  0.952  1.311  1.089         1.909                   0  \n",
      "7   2.058  0.923  1.277  1.065         1.867                   0  \n",
      "8   2.345  1.002  1.421  1.146         1.932                   0  \n",
      "9   2.105  0.919  1.271  1.048         1.888                   0  \n",
      "10  2.218  0.966  1.348  1.096         1.921                   0  \n",
      "11  2.082  0.957  1.308  1.070         1.803                   0  \n",
      "12  2.328  1.025  1.438  1.154         1.879                   0  \n",
      "13  2.327  1.029  1.428  1.186         1.870                   0  \n",
      "14  2.168  0.944  1.318  1.093         1.855                   0  \n",
      "15  2.058  0.853  1.209  0.986         1.832                   0  \n",
      "16  2.130  0.962  1.303  1.103         1.922                   0  \n",
      "17  2.262  1.011  1.390  1.161         1.847                   0  \n",
      "18  2.067  0.985  1.289  1.106         1.838                   0  \n",
      "19  2.301  1.003  1.411  1.158         1.907                   0  \n",
      "20  2.147  0.930  1.313  1.055         1.917                   0  \n",
      "21  2.276  1.017  1.396  1.188         1.851                   0  \n",
      "22  2.319  1.021  1.434  1.142         1.909                   0  \n",
      "23  2.061  0.929  1.307  1.034         1.894                   0  \n",
      "24  2.196  0.966  1.363  1.101         1.825                   0  \n",
      "25  2.173  0.932  1.314  1.076         1.887                   0  \n",
      "26  2.295  1.016  1.421  1.135         1.891                   0  \n",
      "27  2.055  0.950  1.289  1.063         1.807                   0  \n",
      "28  2.158  0.980  1.347  1.092         1.845                   0  \n",
      "29  2.164  0.963  1.347  1.073         1.891                   0  \n",
      "30  2.305  1.031  1.439  1.166         1.901                   0  \n",
      "31  2.190  0.968  1.333  1.096         1.976                   0  \n",
      "32  2.351  1.039  1.451  1.167         1.853                   0  \n",
      "33  2.148  0.945  1.310  1.084         1.908                   0  \n",
      "34  2.323  1.044  1.432  1.183         1.890                   0  \n",
      "35  2.144  0.918  1.300  1.071         1.909                   0  \n",
      "36  2.330  0.990  1.408  1.118         1.917                   0  \n",
      "37  2.131  0.913  1.292  1.052         1.938                   0  \n",
      "38  2.339  1.030  1.418  1.191         1.899                   0  \n",
      "39  2.084  0.939  1.277  1.041         1.875                   0  \n",
      "40  2.349  1.022  1.418  1.170         1.918                   0  \n",
      "41  2.125  0.918  1.306  1.026         1.873                   0  \n",
      "42  2.359  1.041  1.456  1.191         1.839                   0  \n",
      "43  2.094  0.961  1.304  1.082         1.840                   0  \n",
      "44  2.305  1.010  1.417  1.148         1.859                   0  \n",
      "45  2.304  1.012  1.410  1.152         1.868                   0  \n",
      "46  2.095  0.934  1.300  1.055         1.830                   0  \n",
      "47  2.333  1.017  1.413  1.183         1.894                   0  \n",
      "48  2.192  0.960  1.339  1.102         1.927                   0  \n",
      "49  2.362  1.043  1.447  1.201         1.906                   0  \n",
      "50  2.076  0.922  1.250  1.060         1.831                   0  \n",
      "51  1.966  0.886  1.209  0.980         1.792                   0  \n",
      "52  2.194  0.958  1.314  1.114         1.905                   0  \n",
      "53  2.022  0.893  1.224  1.026         1.853                   0  \n",
      "54  1.985  0.924  1.225  1.043         1.736                   0  \n"
     ]
    }
   ],
   "source": [
    "# remove outliers who have 0 in any of the columns\n",
    "columns_to_check = [\n",
    "    \"Thorax_length\",\n",
    "    \"l2\",\n",
    "    \"l3p\",\n",
    "    \"l3d\",\n",
    "    \"lpd\",\n",
    "    \"l3\",\n",
    "    \"w1\",\n",
    "    \"w2\",\n",
    "    \"w3\",\n",
    "    \"wing_loading\",\n",
    "]\n",
    "\n",
    "mask = (data[columns_to_check] == 0).any(axis=1)\n",
    "data_cleaned = data[~mask]\n",
    "\n",
    "print(data_cleaned.head()) "
   ]
  },
  {
   "cell_type": "code",
   "execution_count": 239,
   "metadata": {},
   "outputs": [],
   "source": [
    "# Assertions to check if the data is clean and in expected format\n",
    "assert data.isnull().sum().sum() == 0, \"There are missing values in the DataFrame\"\n",
    "assert data[\"Sex\"].nunique() == 2, \"Unexpected number of unique values for 'Sex'\"\n",
    "assert (\n",
    "    data[\"Species_Population\"].nunique() == 10\n",
    "), \"Unexpected number of unique values for 'Species_Population'\"\n",
    "\n",
    "# Ensure all specified measurements are greater than 0\n",
    "assert (data[\"Thorax_length\"] > 0).all(), \"Non-positive values found in Thorax_length\"\n",
    "assert (data[\"l2\"] >= 0).all(), \"Non-positive values found in l2\"\n",
    "assert (data[\"l3p\"] >= 0).all(), \"Non-positive values found in l3p\"\n",
    "assert (data[\"l3d\"] >= 0).all(), \"Non-positive values found in l3d\"\n",
    "assert (data[\"lpd\"] >= 0).all(), \"Non-positive values found in lpd\"\n",
    "assert (data[\"l3\"] >= 0).all(), \"Non-positive values found in l3\"\n",
    "assert (data[\"w1\"] >= 0).all(), \"Non-positive values found in w1\"\n",
    "assert (data[\"w2\"] >= 0).all(), \"Non-positive values found in w2\"\n",
    "assert (data[\"w3\"] >= 0).all(), \"Non-positive values found in w3\"\n",
    "assert (data[\"wing_loading\"] >= 0).all(), \"Non-positive values found in wing_loading\""
   ]
  },
  {
   "cell_type": "code",
   "execution_count": 240,
   "metadata": {},
   "outputs": [],
   "source": [
    "# save data to a new file\n",
    "data.to_csv(\"Cleaned_data.csv\", index=False)"
   ]
  }
 ],
 "metadata": {
  "kernelspec": {
   "display_name": "conda-torch",
   "language": "python",
   "name": "python3"
  },
  "language_info": {
   "codemirror_mode": {
    "name": "ipython",
    "version": 3
   },
   "file_extension": ".py",
   "mimetype": "text/x-python",
   "name": "python",
   "nbconvert_exporter": "python",
   "pygments_lexer": "ipython3",
   "version": "3.10.12"
  }
 },
 "nbformat": 4,
 "nbformat_minor": 2
}
