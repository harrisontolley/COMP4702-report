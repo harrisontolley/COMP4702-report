{
 "cells": [
  {
   "cell_type": "code",
   "execution_count": 294,
   "metadata": {},
   "outputs": [],
   "source": [
    "# File responsble for the creation of individual datasets with added noise (for the purpose of testing the robustness of the model)\n"
   ]
  },
  {
   "cell_type": "code",
   "execution_count": 295,
   "metadata": {},
   "outputs": [],
   "source": [
    "# imports required\n",
    "import pandas as pd\n",
    "from sklearn.preprocessing import LabelEncoder"
   ]
  },
  {
   "cell_type": "code",
   "execution_count": 296,
   "metadata": {},
   "outputs": [
    {
     "name": "stdout",
     "output_type": "stream",
     "text": [
      "       Species Population  Latitude  Longitude  Year_start  Year_end  \\\n",
      "0  D._aldrichi    Binjour    -25.52     151.45        1994      1994   \n",
      "1  D._aldrichi    Binjour    -25.52     151.45        1994      1994   \n",
      "2  D._aldrichi    Binjour    -25.52     151.45        1994      1994   \n",
      "3  D._aldrichi    Binjour    -25.52     151.45        1994      1994   \n",
      "4  D._aldrichi    Binjour    -25.52     151.45        1994      1994   \n",
      "\n",
      "   Temperature  Vial  Replicate     Sex Thorax_length     l2    l3p    l3d  \\\n",
      "0           20     1          1  female         1.238  2.017  0.659  1.711   \n",
      "1           20     1          1    male         1.113  1.811  0.609  1.539   \n",
      "2           20     1          2  female         1.215  1.985  0.648  1.671   \n",
      "3           20     1          2    male         1.123  1.713  0.596  1.495   \n",
      "4           20     2          1  female         1.218  1.938  0.641  1.658   \n",
      "\n",
      "     lpd     l3     w1     w2     w3 wing_loading  \n",
      "0  2.370  2.370  1.032  1.441  1.192        1.914  \n",
      "1  2.148  2.146  0.938  1.299  1.066        1.928  \n",
      "2  2.319  2.319  0.991  1.396  1.142        1.908  \n",
      "3  2.091  2.088  0.958  1.286  1.062        1.860  \n",
      "4  2.298  2.298  1.010  1.418  1.148        1.886  \n"
     ]
    }
   ],
   "source": [
    "# read the data, and display head\n",
    "data = pd.read_csv('Thorax_and_Wing_traits.csv')\n",
    "print(data.head())\n",
    "# print(\"Data shape: \", data.shape)\n",
    "# print(\"Column data types: \", data.dtypes)\n",
    "# print(\"Summary: \", data.info())\n",
    "\n"
   ]
  },
  {
   "cell_type": "code",
   "execution_count": 297,
   "metadata": {},
   "outputs": [],
   "source": [
    "# data preprocessing\n",
    "\n",
    "# combine species and population\n",
    "data[\"Species_Population\"] = data[\"Species\"] + \"_\" + data[\"Population\"]\n",
    "\n",
    "# drop columns that are not required\n",
    "columns_to_drop = [\n",
    "    \"Year_start\",\n",
    "    \"Year_end\",\n",
    "    \"Vial\",\n",
    "    \"Replicate\",\n",
    "    \"Species\",\n",
    "    \"Population\",\n",
    "    \"Temperature\",\n",
    "    \"Latitude\",\n",
    "    \"Longitude\",\n",
    "]\n",
    "columns_to_drop = [col for col in columns_to_drop if col in data.columns]\n",
    "data = data.drop(columns_to_drop, axis=1)"
   ]
  },
  {
   "cell_type": "code",
   "execution_count": 298,
   "metadata": {},
   "outputs": [
    {
     "name": "stdout",
     "output_type": "stream",
     "text": [
      "Latitude              float64\n",
      "Longitude             float64\n",
      "Sex                     int32\n",
      "Thorax_length          object\n",
      "l2                    float64\n",
      "l3p                   float64\n",
      "l3d                   float64\n",
      "lpd                   float64\n",
      "l3                    float64\n",
      "w1                    float64\n",
      "w2                    float64\n",
      "w3                    float64\n",
      "wing_loading           object\n",
      "Species_Population      int32\n",
      "dtype: object\n"
     ]
    }
   ],
   "source": [
    "# convert categorical columns to numerical\n",
    "le = LabelEncoder()\n",
    "data[\"Species_Population\"] = le.fit_transform(data[\"Species_Population\"])\n",
    "data['Sex'] = le.fit_transform(data['Sex'])\n",
    "\n",
    "print(data.dtypes)"
   ]
  },
  {
   "cell_type": "code",
   "execution_count": 299,
   "metadata": {},
   "outputs": [
    {
     "name": "stdout",
     "output_type": "stream",
     "text": [
      "NaN in Thorax_length: 1\n",
      "NaN in wing_loading: 1\n"
     ]
    }
   ],
   "source": [
    "# Attempt to convert 'Thorax_length' and 'wing_loading' to numeric, coercing errors\n",
    "data[\"Thorax_length\"] = pd.to_numeric(data[\"Thorax_length\"], errors=\"coerce\")\n",
    "data[\"wing_loading\"] = pd.to_numeric(data[\"wing_loading\"], errors=\"coerce\")\n",
    "\n",
    "print(\"NaN in Thorax_length:\", data[\"Thorax_length\"].isna().sum())\n",
    "print(\"NaN in wing_loading:\", data[\"wing_loading\"].isna().sum())\n",
    "\n",
    "data.dropna(subset=[\"Thorax_length\", \"wing_loading\"], inplace=True)"
   ]
  },
  {
   "cell_type": "code",
   "execution_count": 300,
   "metadata": {},
   "outputs": [
    {
     "name": "stdout",
     "output_type": "stream",
     "text": [
      "   Latitude  Longitude  Sex  Thorax_length     l2    l3p    l3d    lpd     l3  \\\n",
      "0    -25.52     151.45    0          1.238  2.017  0.659  1.711  2.370  2.370   \n",
      "1    -25.52     151.45    1          1.113  1.811  0.609  1.539  2.148  2.146   \n",
      "2    -25.52     151.45    0          1.215  1.985  0.648  1.671  2.319  2.319   \n",
      "3    -25.52     151.45    1          1.123  1.713  0.596  1.495  2.091  2.088   \n",
      "4    -25.52     151.45    0          1.218  1.938  0.641  1.658  2.298  2.298   \n",
      "\n",
      "      w1     w2     w3  wing_loading  Species_Population  \n",
      "0  1.032  1.441  1.192         1.914                   0  \n",
      "1  0.938  1.299  1.066         1.928                   0  \n",
      "2  0.991  1.396  1.142         1.908                   0  \n",
      "3  0.958  1.286  1.062         1.860                   0  \n",
      "4  1.010  1.418  1.148         1.886                   0  \n",
      "Original number of rows: 1730\n",
      "Number of rows after removal: 1728\n"
     ]
    }
   ],
   "source": [
    "# remove outliers who have 0 in any of the columns\n",
    "columns_to_check = [\n",
    "    \"Thorax_length\",\n",
    "    \"l2\",\n",
    "    \"l3p\",\n",
    "    \"l3d\",\n",
    "    \"lpd\",\n",
    "    \"l3\",\n",
    "    \"w1\",\n",
    "    \"w2\",\n",
    "    \"w3\",\n",
    "    \"wing_loading\",\n",
    "]\n",
    "\n",
    "mask = (data[columns_to_check] == 0).any(axis=1)\n",
    "data_cleaned = data[~mask]\n",
    "\n",
    "print(data_cleaned.head()) \n",
    "\n",
    "print(\"Original number of rows:\", len(data))\n",
    "print(\"Number of rows after removal:\", len(data_cleaned))\n",
    "\n",
    "data = data_cleaned"
   ]
  },
  {
   "cell_type": "code",
   "execution_count": 301,
   "metadata": {},
   "outputs": [],
   "source": [
    "# Assertions to check if the data is clean and in expected format\n",
    "assert data.isnull().sum().sum() == 0, \"There are missing values in the DataFrame\"\n",
    "assert data[\"Sex\"].nunique() == 2, \"Unexpected number of unique values for 'Sex'\"\n",
    "assert (\n",
    "    data[\"Species_Population\"].nunique() == 10\n",
    "), \"Unexpected number of unique values for 'Species_Population'\"\n",
    "\n",
    "# Ensure all specified measurements are greater than 0\n",
    "assert (data[\"Thorax_length\"] > 0).all(), \"Non-positive values found in Thorax_length\"\n",
    "assert (data[\"l2\"] >= 0).all(), \"Non-positive values found in l2\"\n",
    "assert (data[\"l3p\"] >= 0).all(), \"Non-positive values found in l3p\"\n",
    "assert (data[\"l3d\"] >= 0).all(), \"Non-positive values found in l3d\"\n",
    "assert (data[\"lpd\"] >= 0).all(), \"Non-positive values found in lpd\"\n",
    "assert (data[\"l3\"] >= 0).all(), \"Non-positive values found in l3\"\n",
    "assert (data[\"w1\"] >= 0).all(), \"Non-positive values found in w1\"\n",
    "assert (data[\"w2\"] >= 0).all(), \"Non-positive values found in w2\"\n",
    "assert (data[\"w3\"] >= 0).all(), \"Non-positive values found in w3\"\n",
    "assert (data[\"wing_loading\"] >= 0).all(), \"Non-positive values found in wing_loading\""
   ]
  },
  {
   "cell_type": "code",
   "execution_count": 302,
   "metadata": {},
   "outputs": [],
   "source": [
    "# save data to a new file\n",
    "data.to_csv(\"Cleaned_data.csv\", index=False)"
   ]
  }
 ],
 "metadata": {
  "kernelspec": {
   "display_name": "conda-torch",
   "language": "python",
   "name": "python3"
  },
  "language_info": {
   "codemirror_mode": {
    "name": "ipython",
    "version": 3
   },
   "file_extension": ".py",
   "mimetype": "text/x-python",
   "name": "python",
   "nbconvert_exporter": "python",
   "pygments_lexer": "ipython3",
   "version": "3.10.12"
  }
 },
 "nbformat": 4,
 "nbformat_minor": 2
}
